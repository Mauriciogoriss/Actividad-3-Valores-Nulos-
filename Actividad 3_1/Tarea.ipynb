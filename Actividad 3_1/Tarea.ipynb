{
 "cells": [
  {
   "cell_type": "code",
   "execution_count": null,
   "metadata": {},
   "outputs": [],
   "source": [
    "# Importar librerías necesarias\n",
    "import pandas as pd\n"
   ]
  },
  {
   "cell_type": "code",
   "execution_count": 20,
   "metadata": {},
   "outputs": [],
   "source": [
    "# Cargar el archivo CSV\n",
    "df = pd.read_csv(\"Ventas_totales (1).csv\")"
   ]
  },
  {
   "cell_type": "code",
   "execution_count": 21,
   "metadata": {},
   "outputs": [
    {
     "name": "stdout",
     "output_type": "stream",
     "text": [
      "Información del dataset antes del tratamiento:\n",
      "<class 'pandas.core.frame.DataFrame'>\n",
      "RangeIndex: 65 entries, 0 to 64\n",
      "Data columns (total 24 columns):\n",
      " #   Column                               Non-Null Count  Dtype  \n",
      "---  ------                               --------------  -----  \n",
      " 0   indice_tiempo                        65 non-null     object \n",
      " 1   ventas_precios_corrientes            65 non-null     float64\n",
      " 2   ventas_precios_constantes            65 non-null     float64\n",
      " 3   ventas_totales_canal_venta           65 non-null     float64\n",
      " 4   salon_ventas                         59 non-null     float64\n",
      " 5   canales_on_line                      65 non-null     float64\n",
      " 6   ventas_totales_medio_pago            65 non-null     float64\n",
      " 7   efectivo                             65 non-null     float64\n",
      " 8   tarjetas_debito                      64 non-null     float64\n",
      " 9   tarjetas_credito                     58 non-null     float64\n",
      " 10  otros_medios                         64 non-null     float64\n",
      " 11  ventas_totales_grupo_articulos       65 non-null     float64\n",
      " 12  subtotal_ventas_alimentos_bebidas    55 non-null     float64\n",
      " 13  bebidas                              64 non-null     float64\n",
      " 14  almacen                              63 non-null     float64\n",
      " 15  panaderia                            64 non-null     float64\n",
      " 16  lacteos                              64 non-null     float64\n",
      " 17  carnes                               64 non-null     float64\n",
      " 18  verduleria_fruteria                  64 non-null     float64\n",
      " 19  alimentos_preparados_rotiseria       64 non-null     float64\n",
      " 20  articulos_limpieza_perfumeria        65 non-null     float64\n",
      " 21  indumentaria_calzado_textiles_hogar  63 non-null     float64\n",
      " 22  electronicos_articulos_hogar         62 non-null     float64\n",
      " 23  otros                                61 non-null     float64\n",
      "dtypes: float64(23), object(1)\n",
      "memory usage: 12.3+ KB\n",
      "None\n",
      "\n",
      "Valores nulos por columna:\n",
      "indice_tiempo                           0\n",
      "ventas_precios_corrientes               0\n",
      "ventas_precios_constantes               0\n",
      "ventas_totales_canal_venta              0\n",
      "salon_ventas                            6\n",
      "canales_on_line                         0\n",
      "ventas_totales_medio_pago               0\n",
      "efectivo                                0\n",
      "tarjetas_debito                         1\n",
      "tarjetas_credito                        7\n",
      "otros_medios                            1\n",
      "ventas_totales_grupo_articulos          0\n",
      "subtotal_ventas_alimentos_bebidas      10\n",
      "bebidas                                 1\n",
      "almacen                                 2\n",
      "panaderia                               1\n",
      "lacteos                                 1\n",
      "carnes                                  1\n",
      "verduleria_fruteria                     1\n",
      "alimentos_preparados_rotiseria          1\n",
      "articulos_limpieza_perfumeria           0\n",
      "indumentaria_calzado_textiles_hogar     2\n",
      "electronicos_articulos_hogar            3\n",
      "otros                                   4\n",
      "dtype: int64\n"
     ]
    }
   ],
   "source": [
    "# Ver información general del dataset\n",
    "print(\"Información del dataset antes del tratamiento:\")\n",
    "print(df.info())\n",
    "print(\"\\nValores nulos por columna:\")\n",
    "print(df.isnull().sum())"
   ]
  },
  {
   "cell_type": "code",
   "execution_count": 22,
   "metadata": {},
   "outputs": [
    {
     "name": "stderr",
     "output_type": "stream",
     "text": [
      "C:\\Users\\Maugo\\AppData\\Local\\Temp\\ipykernel_15936\\2391470249.py:3: FutureWarning: A value is trying to be set on a copy of a DataFrame or Series through chained assignment using an inplace method.\n",
      "The behavior will change in pandas 3.0. This inplace method will never work because the intermediate object on which we are setting values always behaves as a copy.\n",
      "\n",
      "For example, when doing 'df[col].method(value, inplace=True)', try using 'df.method({col: value}, inplace=True)' or df[col] = df[col].method(value) instead, to perform the operation inplace on the original object.\n",
      "\n",
      "\n",
      "  df['salon_ventas'].fillna(df['salon_ventas'].median(), inplace=True)\n"
     ]
    }
   ],
   "source": [
    "# Tratamiento de valores nulos\n",
    "## Usar la mediana para \"salon_ventas\"\n",
    "df['salon_ventas'].fillna(df['salon_ventas'].median(), inplace=True)"
   ]
  },
  {
   "cell_type": "code",
   "execution_count": 23,
   "metadata": {},
   "outputs": [
    {
     "name": "stderr",
     "output_type": "stream",
     "text": [
      "C:\\Users\\Maugo\\AppData\\Local\\Temp\\ipykernel_15936\\1073338200.py:2: FutureWarning: A value is trying to be set on a copy of a DataFrame or Series through chained assignment using an inplace method.\n",
      "The behavior will change in pandas 3.0. This inplace method will never work because the intermediate object on which we are setting values always behaves as a copy.\n",
      "\n",
      "For example, when doing 'df[col].method(value, inplace=True)', try using 'df.method({col: value}, inplace=True)' or df[col] = df[col].method(value) instead, to perform the operation inplace on the original object.\n",
      "\n",
      "\n",
      "  df['tarjetas_credito'].fillna(df['tarjetas_credito'].mean(), inplace=True)\n"
     ]
    }
   ],
   "source": [
    "## Usar la media para \"tarjetas_credito\"\n",
    "df['tarjetas_credito'].fillna(df['tarjetas_credito'].mean(), inplace=True)"
   ]
  },
  {
   "cell_type": "code",
   "execution_count": 24,
   "metadata": {},
   "outputs": [
    {
     "name": "stderr",
     "output_type": "stream",
     "text": [
      "C:\\Users\\Maugo\\AppData\\Local\\Temp\\ipykernel_15936\\3828382331.py:2: FutureWarning: A value is trying to be set on a copy of a DataFrame or Series through chained assignment using an inplace method.\n",
      "The behavior will change in pandas 3.0. This inplace method will never work because the intermediate object on which we are setting values always behaves as a copy.\n",
      "\n",
      "For example, when doing 'df[col].method(value, inplace=True)', try using 'df.method({col: value}, inplace=True)' or df[col] = df[col].method(value) instead, to perform the operation inplace on the original object.\n",
      "\n",
      "\n",
      "  df['almacen'].fillna(df['almacen'].mode()[0], inplace=True)\n"
     ]
    }
   ],
   "source": [
    "## Usar la moda para \"almacen\"\n",
    "df['almacen'].fillna(df['almacen'].mode()[0], inplace=True)"
   ]
  },
  {
   "cell_type": "code",
   "execution_count": 25,
   "metadata": {},
   "outputs": [
    {
     "name": "stderr",
     "output_type": "stream",
     "text": [
      "C:\\Users\\Maugo\\AppData\\Local\\Temp\\ipykernel_15936\\2631540499.py:2: FutureWarning: A value is trying to be set on a copy of a DataFrame or Series through chained assignment using an inplace method.\n",
      "The behavior will change in pandas 3.0. This inplace method will never work because the intermediate object on which we are setting values always behaves as a copy.\n",
      "\n",
      "For example, when doing 'df[col].method(value, inplace=True)', try using 'df.method({col: value}, inplace=True)' or df[col] = df[col].method(value) instead, to perform the operation inplace on the original object.\n",
      "\n",
      "\n",
      "  df['bebidas'].fillna(df['bebidas'].mode()[0], inplace=True)\n"
     ]
    }
   ],
   "source": [
    "## Usar la moda para \"bebidas\"\n",
    "df['bebidas'].fillna(df['bebidas'].mode()[0], inplace=True)"
   ]
  },
  {
   "cell_type": "code",
   "execution_count": 26,
   "metadata": {},
   "outputs": [
    {
     "name": "stderr",
     "output_type": "stream",
     "text": [
      "C:\\Users\\Maugo\\AppData\\Local\\Temp\\ipykernel_15936\\2009915791.py:2: FutureWarning: A value is trying to be set on a copy of a DataFrame or Series through chained assignment using an inplace method.\n",
      "The behavior will change in pandas 3.0. This inplace method will never work because the intermediate object on which we are setting values always behaves as a copy.\n",
      "\n",
      "For example, when doing 'df[col].method(value, inplace=True)', try using 'df.method({col: value}, inplace=True)' or df[col] = df[col].method(value) instead, to perform the operation inplace on the original object.\n",
      "\n",
      "\n",
      "  df['panaderia'].fillna(df['panaderia'].mode()[0], inplace=True)\n"
     ]
    }
   ],
   "source": [
    "## Usar la moda para \"panaderia\"\n",
    "df['panaderia'].fillna(df['panaderia'].mode()[0], inplace=True)"
   ]
  },
  {
   "cell_type": "code",
   "execution_count": 27,
   "metadata": {},
   "outputs": [
    {
     "name": "stderr",
     "output_type": "stream",
     "text": [
      "C:\\Users\\Maugo\\AppData\\Local\\Temp\\ipykernel_15936\\444342949.py:2: FutureWarning: A value is trying to be set on a copy of a DataFrame or Series through chained assignment using an inplace method.\n",
      "The behavior will change in pandas 3.0. This inplace method will never work because the intermediate object on which we are setting values always behaves as a copy.\n",
      "\n",
      "For example, when doing 'df[col].method(value, inplace=True)', try using 'df.method({col: value}, inplace=True)' or df[col] = df[col].method(value) instead, to perform the operation inplace on the original object.\n",
      "\n",
      "\n",
      "  df['lacteos'].fillna(df['lacteos'].mode()[0], inplace=True)\n"
     ]
    }
   ],
   "source": [
    "## Usar la moda para \"lacteos\"\n",
    "df['lacteos'].fillna(df['lacteos'].mode()[0], inplace=True)"
   ]
  },
  {
   "cell_type": "code",
   "execution_count": 28,
   "metadata": {},
   "outputs": [
    {
     "name": "stderr",
     "output_type": "stream",
     "text": [
      "C:\\Users\\Maugo\\AppData\\Local\\Temp\\ipykernel_15936\\935053187.py:2: FutureWarning: A value is trying to be set on a copy of a DataFrame or Series through chained assignment using an inplace method.\n",
      "The behavior will change in pandas 3.0. This inplace method will never work because the intermediate object on which we are setting values always behaves as a copy.\n",
      "\n",
      "For example, when doing 'df[col].method(value, inplace=True)', try using 'df.method({col: value}, inplace=True)' or df[col] = df[col].method(value) instead, to perform the operation inplace on the original object.\n",
      "\n",
      "\n",
      "  df['carnes'].fillna(df['carnes'].mode()[0], inplace=True)\n"
     ]
    }
   ],
   "source": [
    "## Usar la moda para \"carnes\"\n",
    "df['carnes'].fillna(df['carnes'].mode()[0], inplace=True)"
   ]
  },
  {
   "cell_type": "code",
   "execution_count": 29,
   "metadata": {},
   "outputs": [
    {
     "name": "stderr",
     "output_type": "stream",
     "text": [
      "C:\\Users\\Maugo\\AppData\\Local\\Temp\\ipykernel_15936\\869703396.py:2: FutureWarning: A value is trying to be set on a copy of a DataFrame or Series through chained assignment using an inplace method.\n",
      "The behavior will change in pandas 3.0. This inplace method will never work because the intermediate object on which we are setting values always behaves as a copy.\n",
      "\n",
      "For example, when doing 'df[col].method(value, inplace=True)', try using 'df.method({col: value}, inplace=True)' or df[col] = df[col].method(value) instead, to perform the operation inplace on the original object.\n",
      "\n",
      "\n",
      "  df['verduleria_fruteria'].fillna(df['verduleria_fruteria'].mode()[0], inplace=True)\n"
     ]
    }
   ],
   "source": [
    "## Usar la moda para \"verduleria_fruteria\"\n",
    "df['verduleria_fruteria'].fillna(df['verduleria_fruteria'].mode()[0], inplace=True)"
   ]
  },
  {
   "cell_type": "code",
   "execution_count": 30,
   "metadata": {},
   "outputs": [
    {
     "name": "stderr",
     "output_type": "stream",
     "text": [
      "C:\\Users\\Maugo\\AppData\\Local\\Temp\\ipykernel_15936\\2494324247.py:2: FutureWarning: A value is trying to be set on a copy of a DataFrame or Series through chained assignment using an inplace method.\n",
      "The behavior will change in pandas 3.0. This inplace method will never work because the intermediate object on which we are setting values always behaves as a copy.\n",
      "\n",
      "For example, when doing 'df[col].method(value, inplace=True)', try using 'df.method({col: value}, inplace=True)' or df[col] = df[col].method(value) instead, to perform the operation inplace on the original object.\n",
      "\n",
      "\n",
      "  df['alimentos_preparados_rotiseria'].fillna(df['alimentos_preparados_rotiseria'].mode()[0], inplace=True)\n"
     ]
    }
   ],
   "source": [
    "## Usar la moda para \"alimentos_preparados_rotiseria\"\n",
    "df['alimentos_preparados_rotiseria'].fillna(df['alimentos_preparados_rotiseria'].mode()[0], inplace=True)"
   ]
  },
  {
   "cell_type": "code",
   "execution_count": 31,
   "metadata": {},
   "outputs": [
    {
     "name": "stderr",
     "output_type": "stream",
     "text": [
      "C:\\Users\\Maugo\\AppData\\Local\\Temp\\ipykernel_15936\\39488680.py:2: FutureWarning: A value is trying to be set on a copy of a DataFrame or Series through chained assignment using an inplace method.\n",
      "The behavior will change in pandas 3.0. This inplace method will never work because the intermediate object on which we are setting values always behaves as a copy.\n",
      "\n",
      "For example, when doing 'df[col].method(value, inplace=True)', try using 'df.method({col: value}, inplace=True)' or df[col] = df[col].method(value) instead, to perform the operation inplace on the original object.\n",
      "\n",
      "\n",
      "  df['indumentaria_calzado_textiles_hogar'].fillna(df['indumentaria_calzado_textiles_hogar'].median(), inplace=True)\n"
     ]
    }
   ],
   "source": [
    "## Usar la mediana para \"indumentaria_calzado_textiles_hogar\"\n",
    "df['indumentaria_calzado_textiles_hogar'].fillna(df['indumentaria_calzado_textiles_hogar'].median(), inplace=True)"
   ]
  },
  {
   "cell_type": "code",
   "execution_count": 32,
   "metadata": {},
   "outputs": [
    {
     "name": "stderr",
     "output_type": "stream",
     "text": [
      "C:\\Users\\Maugo\\AppData\\Local\\Temp\\ipykernel_15936\\3189078631.py:2: FutureWarning: A value is trying to be set on a copy of a DataFrame or Series through chained assignment using an inplace method.\n",
      "The behavior will change in pandas 3.0. This inplace method will never work because the intermediate object on which we are setting values always behaves as a copy.\n",
      "\n",
      "For example, when doing 'df[col].method(value, inplace=True)', try using 'df.method({col: value}, inplace=True)' or df[col] = df[col].method(value) instead, to perform the operation inplace on the original object.\n",
      "\n",
      "\n",
      "  df['electronicos_articulos_hogar'].fillna(df['electronicos_articulos_hogar'].median(), inplace=True)\n"
     ]
    }
   ],
   "source": [
    "## Usar la mediana para \"electronicos_articulos_hogar\"\n",
    "df['electronicos_articulos_hogar'].fillna(df['electronicos_articulos_hogar'].median(), inplace=True)"
   ]
  },
  {
   "cell_type": "code",
   "execution_count": 33,
   "metadata": {},
   "outputs": [
    {
     "name": "stderr",
     "output_type": "stream",
     "text": [
      "C:\\Users\\Maugo\\AppData\\Local\\Temp\\ipykernel_15936\\2249006016.py:2: FutureWarning: A value is trying to be set on a copy of a DataFrame or Series through chained assignment using an inplace method.\n",
      "The behavior will change in pandas 3.0. This inplace method will never work because the intermediate object on which we are setting values always behaves as a copy.\n",
      "\n",
      "For example, when doing 'df[col].method(value, inplace=True)', try using 'df.method({col: value}, inplace=True)' or df[col] = df[col].method(value) instead, to perform the operation inplace on the original object.\n",
      "\n",
      "\n",
      "  df['otros'].fillna(df['otros'].median(), inplace=True)\n"
     ]
    }
   ],
   "source": [
    "## Usar la mediana para \"otros\"\n",
    "df['otros'].fillna(df['otros'].median(), inplace=True)"
   ]
  },
  {
   "cell_type": "code",
   "execution_count": 34,
   "metadata": {},
   "outputs": [],
   "source": [
    "## Aplicar interpolación a \"tarjetas_debito\"\n",
    "df['tarjetas_debito'] = df['tarjetas_debito'].interpolate()"
   ]
  },
  {
   "cell_type": "code",
   "execution_count": 35,
   "metadata": {},
   "outputs": [],
   "source": [
    "## Aplicar interpolación a \"otros_medios\"\n",
    "df['otros_medios'] = df['otros_medios'].interpolate()\n"
   ]
  },
  {
   "cell_type": "code",
   "execution_count": 36,
   "metadata": {},
   "outputs": [],
   "source": [
    "## Eliminar filas con valores nulos en \"subtotal_ventas_alimentos_bebidas\"\n",
    "df.dropna(subset=['subtotal_ventas_alimentos_bebidas'], inplace=True)"
   ]
  },
  {
   "cell_type": "code",
   "execution_count": 37,
   "metadata": {},
   "outputs": [],
   "source": [
    "# Guardar el dataset limpio\n",
    "df.to_csv(\"VentasTotales_Limpiado.csv\", index=False)"
   ]
  },
  {
   "cell_type": "code",
   "execution_count": 38,
   "metadata": {},
   "outputs": [
    {
     "name": "stdout",
     "output_type": "stream",
     "text": [
      "\n",
      "Información después del tratamiento:\n",
      "<class 'pandas.core.frame.DataFrame'>\n",
      "Index: 55 entries, 0 to 64\n",
      "Data columns (total 24 columns):\n",
      " #   Column                               Non-Null Count  Dtype  \n",
      "---  ------                               --------------  -----  \n",
      " 0   indice_tiempo                        55 non-null     object \n",
      " 1   ventas_precios_corrientes            55 non-null     float64\n",
      " 2   ventas_precios_constantes            55 non-null     float64\n",
      " 3   ventas_totales_canal_venta           55 non-null     float64\n",
      " 4   salon_ventas                         55 non-null     float64\n",
      " 5   canales_on_line                      55 non-null     float64\n",
      " 6   ventas_totales_medio_pago            55 non-null     float64\n",
      " 7   efectivo                             55 non-null     float64\n",
      " 8   tarjetas_debito                      55 non-null     float64\n",
      " 9   tarjetas_credito                     55 non-null     float64\n",
      " 10  otros_medios                         55 non-null     float64\n",
      " 11  ventas_totales_grupo_articulos       55 non-null     float64\n",
      " 12  subtotal_ventas_alimentos_bebidas    55 non-null     float64\n",
      " 13  bebidas                              55 non-null     float64\n",
      " 14  almacen                              55 non-null     float64\n",
      " 15  panaderia                            55 non-null     float64\n",
      " 16  lacteos                              55 non-null     float64\n",
      " 17  carnes                               55 non-null     float64\n",
      " 18  verduleria_fruteria                  55 non-null     float64\n",
      " 19  alimentos_preparados_rotiseria       55 non-null     float64\n",
      " 20  articulos_limpieza_perfumeria        55 non-null     float64\n",
      " 21  indumentaria_calzado_textiles_hogar  55 non-null     float64\n",
      " 22  electronicos_articulos_hogar         55 non-null     float64\n",
      " 23  otros                                55 non-null     float64\n",
      "dtypes: float64(23), object(1)\n",
      "memory usage: 10.7+ KB\n",
      "None\n",
      "\n",
      "Valores nulos restantes por columna:\n",
      "indice_tiempo                          0\n",
      "ventas_precios_corrientes              0\n",
      "ventas_precios_constantes              0\n",
      "ventas_totales_canal_venta             0\n",
      "salon_ventas                           0\n",
      "canales_on_line                        0\n",
      "ventas_totales_medio_pago              0\n",
      "efectivo                               0\n",
      "tarjetas_debito                        0\n",
      "tarjetas_credito                       0\n",
      "otros_medios                           0\n",
      "ventas_totales_grupo_articulos         0\n",
      "subtotal_ventas_alimentos_bebidas      0\n",
      "bebidas                                0\n",
      "almacen                                0\n",
      "panaderia                              0\n",
      "lacteos                                0\n",
      "carnes                                 0\n",
      "verduleria_fruteria                    0\n",
      "alimentos_preparados_rotiseria         0\n",
      "articulos_limpieza_perfumeria          0\n",
      "indumentaria_calzado_textiles_hogar    0\n",
      "electronicos_articulos_hogar           0\n",
      "otros                                  0\n",
      "dtype: int64\n"
     ]
    }
   ],
   "source": [
    "# Verificar el resultado final\n",
    "print(\"\\nInformación después del tratamiento:\")\n",
    "print(df.info())\n",
    "print(\"\\nValores nulos restantes por columna:\")\n",
    "print(df.isnull().sum())"
   ]
  }
 ],
 "metadata": {
  "kernelspec": {
   "display_name": "Python 3",
   "language": "python",
   "name": "python3"
  },
  "language_info": {
   "codemirror_mode": {
    "name": "ipython",
    "version": 3
   },
   "file_extension": ".py",
   "mimetype": "text/x-python",
   "name": "python",
   "nbconvert_exporter": "python",
   "pygments_lexer": "ipython3",
   "version": "3.13.2"
  }
 },
 "nbformat": 4,
 "nbformat_minor": 2
}
