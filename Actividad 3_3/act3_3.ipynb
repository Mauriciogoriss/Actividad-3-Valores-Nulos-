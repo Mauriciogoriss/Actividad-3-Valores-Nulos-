{
 "cells": [
  {
   "cell_type": "code",
   "execution_count": 1,
   "metadata": {},
   "outputs": [],
   "source": [
    "import pandas as pd"
   ]
  },
  {
   "cell_type": "code",
   "execution_count": null,
   "metadata": {},
   "outputs": [
    {
     "name": "stdout",
     "output_type": "stream",
     "text": [
      "Archivo CSV cargado correctamente.\n",
      "Archivo convertido y guardado como: sandiego_estadosunidos_salida.csv\n",
      "      id  host_id                         listing_url last_scraped  \\\n",
      "0      6       29      https://www.airbnb.com/rooms/6   2024-12-23   \n",
      "1  12447    48669  https://www.airbnb.com/rooms/12447   2024-12-23   \n",
      "2  29967   129123  https://www.airbnb.com/rooms/29967   2024-12-23   \n",
      "3  54001   252692  https://www.airbnb.com/rooms/54001   2024-12-23   \n",
      "4  62274   302986  https://www.airbnb.com/rooms/62274   2024-12-23   \n",
      "\n",
      "   host_since first_review last_review host_name  host_response_time  \\\n",
      "0  2008-03-03   2008-06-22  2024-10-20      Sara      within an hour   \n",
      "1  2009-10-27   2011-11-10  2024-10-25  Jennifer      within an hour   \n",
      "2  2010-05-21   2010-07-09  2024-08-22   Michael  within a few hours   \n",
      "3  2010-10-04   2011-01-04  2024-11-02    Marsha  within a few hours   \n",
      "4  2010-11-28   2010-12-05  2024-11-30    Isabel      within an hour   \n",
      "\n",
      "  host_response_rate  ... review_scores_checkin review_scores_communication  \\\n",
      "0               100%  ...                  4.99                        4.98   \n",
      "1               100%  ...                  5.00                        5.00   \n",
      "2                90%  ...                  4.93                        4.93   \n",
      "3               100%  ...                  4.97                        4.96   \n",
      "4               100%  ...                  4.93                        4.86   \n",
      "\n",
      "   review_scores_location review_scores_value             license  \\\n",
      "0                    4.79                4.80  STR-04545L, 631067   \n",
      "1                    4.75                4.75  STR-06735L, 631362   \n",
      "2                    4.84                4.76  STR-05218L, 645110   \n",
      "3                    4.97                4.88  STR-05706L, 523003   \n",
      "4                    4.87                4.79  STR-00821L, 520121   \n",
      "\n",
      "  calendar_updated  calculated_host_listings_count_shared_rooms  \\\n",
      "0              NaN                                            0   \n",
      "1              NaN                                            0   \n",
      "2              NaN                                            0   \n",
      "3              NaN                                            0   \n",
      "4              NaN                                            0   \n",
      "\n",
      "   host_location       source neighbourhood_group_cleansed  \n",
      "0  San Diego, CA  city scrape                          NaN  \n",
      "1  San Diego, CA  city scrape                          NaN  \n",
      "2  San Diego, CA  city scrape                          NaN  \n",
      "3  San Diego, CA  city scrape                          NaN  \n",
      "4  San Diego, CA  city scrape                          NaN  \n",
      "\n",
      "[5 rows x 50 columns]\n"
     ]
    }
   ],
   "source": [
    "# Especificar la ruta del archivo (cambiar según el archivo que uses)\n",
    "ruta_archivo = \"sandiego_estadosunidos.csv\"  # Reemplázalo con el archivo correcto\n",
    "\n",
    "# Determinar el tipo de archivo y cargarlo en un DataFrame\n",
    "if ruta_archivo.endswith('.csv'):\n",
    "    df = pd.read_csv(ruta_archivo)\n",
    "    print(\"Archivo CSV cargado correctamente.\")\n",
    "\n",
    "elif ruta_archivo.endswith('.xlsx'):\n",
    "    df = pd.read_excel(ruta_archivo)\n",
    "    print(\"Archivo Excel cargado correctamente.\")\n",
    "\n",
    "elif ruta_archivo.endswith('.html'):\n",
    "    df = pd.read_html(ruta_archivo)[0]  # Toma la primera tabla encontrada\n",
    "    print(\"Archivo HTML cargado correctamente.\")\n",
    "\n",
    "elif ruta_archivo.endswith('.json'):\n",
    "    df = pd.read_json(ruta_archivo)\n",
    "    print(\"Archivo JSON cargado correctamente.\")\n",
    "\n",
    "else:\n",
    "    print(\"Error: Formato no soportado. Usa .csv, .xlsx, .html o .json.\")\n",
    "    df = None  # Para evitar errores si el archivo no es válido\n",
    "\n",
    "# Si el DataFrame se carga correctamente se guarda como CSV\n",
    "if df is not None:\n",
    "    nombre_salida = ruta_archivo.split(\"/\")[-1].split(\".\")[0] + \"_salida.csv\"\n",
    "    df.to_csv(nombre_salida, index=False)\n",
    "    print(f\"Archivo convertido y guardado como: {nombre_salida}\")\n",
    "\n",
    "    # Se muestran los primeros registros\n",
    "    print(df.head())\n",
    "\n",
    "\n",
    " "
   ]
  }
 ],
 "metadata": {
  "kernelspec": {
   "display_name": "Python 3",
   "language": "python",
   "name": "python3"
  },
  "language_info": {
   "codemirror_mode": {
    "name": "ipython",
    "version": 3
   },
   "file_extension": ".py",
   "mimetype": "text/x-python",
   "name": "python",
   "nbconvert_exporter": "python",
   "pygments_lexer": "ipython3",
   "version": "3.13.2"
  }
 },
 "nbformat": 4,
 "nbformat_minor": 2
}
